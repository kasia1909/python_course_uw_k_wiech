{
 "cells": [
  {
   "cell_type": "code",
   "execution_count": 1,
   "metadata": {},
   "outputs": [],
   "source": [
    "import numpy as np"
   ]
  },
  {
   "cell_type": "code",
   "execution_count": 2,
   "metadata": {},
   "outputs": [],
   "source": [
    "data = np.load('sample_treated.npz')"
   ]
  },
  {
   "cell_type": "code",
   "execution_count": 4,
   "metadata": {},
   "outputs": [],
   "source": [
    "lst = data.files"
   ]
  },
  {
   "cell_type": "code",
   "execution_count": 6,
   "metadata": {},
   "outputs": [
    {
     "name": "stdout",
     "output_type": "stream",
     "text": [
      "inputs\n",
      "[[1.0000000e+00 4.9777970e-01 2.9501414e-01 ... 2.1776511e+02\n",
      "  9.9087912e-01 6.3781007e-03]\n",
      " [1.0000000e+00 1.7343625e-01 2.7722573e-01 ... 1.8384276e+02\n",
      "  1.2826279e+00 1.9661381e-03]\n",
      " [1.0000000e+00 2.2737464e-01 7.4534737e-02 ... 1.5446002e+02\n",
      "  1.3863938e+00 6.1554350e-03]\n",
      " ...\n",
      " [1.0000000e+00 2.7133220e-01 4.8834469e-02 ... 2.9902182e+02\n",
      "  7.6204395e-01 5.7185511e-03]\n",
      " [1.0000000e+00 1.7756902e-01 2.8414825e-02 ... 2.6682086e+02\n",
      "  1.4965075e+00 2.9656401e-05]\n",
      " [1.0000000e+00 4.3068835e-01 8.1987716e-02 ... 2.8351651e+02\n",
      "  1.4619569e+00 7.1385191e-03]]\n",
      "outputs\n",
      "[[6.3781007e-03 4.3007010e-03 3.5472501e-03 ... 8.3004842e-03\n",
      "  8.3525004e-03 8.4048435e-03]\n",
      " [1.9661381e-03 1.4592983e-03 1.1970570e-03 ... 1.3193770e-03\n",
      "  1.3256521e-03 1.3319572e-03]\n",
      " [6.1554350e-03 4.9199946e-03 4.3849107e-03 ... 2.3777243e-02\n",
      "  2.4016270e-02 2.4257701e-02]\n",
      " ...\n",
      " [5.7185511e-03 3.9623338e-03 3.3248705e-03 ... 9.6962675e-03\n",
      "  9.7683910e-03 9.8410510e-03]\n",
      " [2.9656401e-05 2.4926601e-05 2.2694139e-05 ... 1.6227456e-04\n",
      "  1.6411782e-04 1.6598203e-04]\n",
      " [7.1385191e-03 5.2740891e-03 4.5770546e-03 ... 9.8293005e-03\n",
      "  9.8801432e-03 9.9312495e-03]]\n"
     ]
    }
   ],
   "source": []
  },
  {
   "cell_type": "code",
   "execution_count": 13,
   "metadata": {},
   "outputs": [
    {
     "data": {
      "text/plain": [
       "['inputs', 'outputs']"
      ]
     },
     "execution_count": 13,
     "metadata": {},
     "output_type": "execute_result"
    }
   ],
   "source": [
    "data.files"
   ]
  },
  {
   "cell_type": "code",
   "execution_count": 15,
   "metadata": {},
   "outputs": [
    {
     "data": {
      "text/plain": [
       "array([[6.3781007e-03, 4.3007010e-03, 3.5472501e-03, ..., 8.3004842e-03,\n",
       "        8.3525004e-03, 8.4048435e-03],\n",
       "       [1.9661381e-03, 1.4592983e-03, 1.1970570e-03, ..., 1.3193770e-03,\n",
       "        1.3256521e-03, 1.3319572e-03],\n",
       "       [6.1554350e-03, 4.9199946e-03, 4.3849107e-03, ..., 2.3777243e-02,\n",
       "        2.4016270e-02, 2.4257701e-02],\n",
       "       ...,\n",
       "       [5.7185511e-03, 3.9623338e-03, 3.3248705e-03, ..., 9.6962675e-03,\n",
       "        9.7683910e-03, 9.8410510e-03],\n",
       "       [2.9656401e-05, 2.4926601e-05, 2.2694139e-05, ..., 1.6227456e-04,\n",
       "        1.6411782e-04, 1.6598203e-04],\n",
       "       [7.1385191e-03, 5.2740891e-03, 4.5770546e-03, ..., 9.8293005e-03,\n",
       "        9.8801432e-03, 9.9312495e-03]], dtype=float32)"
      ]
     },
     "execution_count": 15,
     "metadata": {},
     "output_type": "execute_result"
    }
   ],
   "source": [
    "data['outputs']"
   ]
  },
  {
   "cell_type": "code",
   "execution_count": 26,
   "metadata": {},
   "outputs": [],
   "source": [
    "outputs = data['outputs']"
   ]
  },
  {
   "cell_type": "code",
   "execution_count": 37,
   "metadata": {},
   "outputs": [
    {
     "name": "stdout",
     "output_type": "stream",
     "text": [
      "1.9935445\n",
      "578\n",
      "1.9906161\n",
      "832\n",
      "1.9955182\n",
      "874\n",
      "2.0036852\n",
      "965\n"
     ]
    }
   ],
   "source": [
    "#to be honest, I wasnt sure what exactly this question was looking for so I approached using two differents ideas\n",
    "\n",
    "#idea one: each ROW represents one structure over time, so comparing the first and last item of the list gives you the growth rate\n",
    "\n",
    "for index,value in enumerate(outputs):\n",
    "    first = value[0]\n",
    "    last = value[-1]\n",
    "    growth = last/first\n",
    "    if growth >= 1.99 and growth <= 2.01: #close to 2\n",
    "        print(growth)\n",
    "        print(index)\n",
    "   \n"
   ]
  },
  {
   "cell_type": "code",
   "execution_count": 39,
   "metadata": {},
   "outputs": [
    {
     "name": "stdout",
     "output_type": "stream",
     "text": [
      "{2, 3, 4, 5, 6, 7, 8, 9, 10, 11, 12, 13, 14, 16, 17, 19, 20, 21, 22, 23, 24, 25, 26, 27, 28, 29, 30, 31, 32, 33, 34, 35, 36, 37, 38, 39, 40, 42, 43, 47, 48, 49, 50, 51, 52, 53, 54, 55, 56, 57, 58, 59, 60, 61, 62, 63, 64, 65, 66, 67, 68, 69, 70, 71, 72, 73, 74, 75, 76, 77, 78, 79, 80, 81, 82, 83, 84, 85, 86, 87, 88, 89, 91, 92, 93, 94, 95, 96, 97, 98, 99, 100, 101, 102, 103, 104, 105, 106, 107, 108, 109, 110, 111, 112, 113, 114, 115, 116, 117, 118, 119, 120, 121, 122, 123, 124, 125, 126, 129, 131, 132, 133, 135, 136, 137, 138, 139, 140, 141, 142, 143, 144, 145, 146, 147, 148, 149, 150, 151, 152, 155, 156, 157, 158, 159, 160, 161, 162, 163, 164, 165, 166, 167, 168, 169, 170, 171, 172, 173, 174, 175, 176, 177, 178, 179, 180, 181, 182, 183, 184, 185, 186, 187, 188, 189, 190, 191, 192, 193, 194, 195, 196, 197, 198, 199}\n"
     ]
    }
   ],
   "source": [
    "#idea 2: each list contains separate structures at the same time\n",
    "answers = set()\n",
    "initial_size = outputs[0]\n",
    "for row in outputs:\n",
    "    for index,value in enumerate(row):\n",
    "        first = initial_size[index]\n",
    "        current = value\n",
    "        growth = current/first\n",
    "        if growth >= 1.99 and growth <= 2.01:\n",
    "            answers.add(index)\n",
    "print(answers)"
   ]
  },
  {
   "cell_type": "code",
   "execution_count": 25,
   "metadata": {},
   "outputs": [],
   "source": []
  },
  {
   "cell_type": "code",
   "execution_count": null,
   "metadata": {},
   "outputs": [],
   "source": []
  }
 ],
 "metadata": {
  "kernelspec": {
   "display_name": "Python 3",
   "language": "python",
   "name": "python3"
  },
  "language_info": {
   "codemirror_mode": {
    "name": "ipython",
    "version": 3
   },
   "file_extension": ".py",
   "mimetype": "text/x-python",
   "name": "python",
   "nbconvert_exporter": "python",
   "pygments_lexer": "ipython3",
   "version": "3.8.5"
  }
 },
 "nbformat": 4,
 "nbformat_minor": 4
}
